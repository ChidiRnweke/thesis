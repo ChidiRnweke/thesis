{
 "cells": [
  {
   "cell_type": "code",
   "execution_count": 2,
   "metadata": {},
   "outputs": [],
   "source": [
    "import pandas as pd\n",
    "import numpy as np"
   ]
  },
  {
   "cell_type": "code",
   "execution_count": 31,
   "metadata": {},
   "outputs": [],
   "source": [
    "RQ1_data = pd.read_csv('RQ1_100.csv')\n",
    "RQ1_data = RQ1_data.drop(\"Unnamed: 0\", axis=1)\n",
    "RQ1_data[\"Dropped variable\"] = RQ1_data[\"Dropped variable\"].replace({np.nan: \"None\", 0: \"Important\", 3: \"Medium\", 6: \"Unimportant\"})\n",
    "RQ1_data[\"Drift time\"] = RQ1_data[\"Drift time\"].replace({\"Fully observed\": \"Training\", \"Half observed\": \"Training/Test\", \"Unobserved\": \"Test\"})\n",
    "RQ1_data[\"Algorithm\"] = RQ1_data[\"Algorithm\"].replace(\"Linear regression online\", \"Linear regression\")\n",
    "RQ1_data[\"Dropped drifting\"] = RQ1_data[\"Dropped variable\"] == RQ1_data[\"Variable importance\"]\n",
    "RQ1_data.to_csv('RQ1_100_cleaned.csv', index=False)"
   ]
  },
  {
   "cell_type": "code",
   "execution_count": 4,
   "metadata": {},
   "outputs": [],
   "source": [
    "#Read RQ2_33_2.csv, RQ2_34.csv and RQ2_33.csv into dataframes, then concatenate them\n",
    "RQ2_33_2 = pd.read_csv('RQ2_33_2.csv')\n",
    "RQ2_34 = pd.read_csv('RQ2_34.csv')\n",
    "RQ2_33 = pd.read_csv('RQ2_33.csv')\n",
    "RQ2_data = pd.concat([RQ2_33_2, RQ2_34, RQ2_33])\n",
    "RQ2_data = RQ2_data.drop(\"Unnamed: 0\", axis=1)\n",
    "RQ2_data[\"Dropped variable\"] = RQ2_data[\"Dropped variable\"].replace({np.nan: \"None\", 0: \"Important\", 3: \"Medium\", 6: \"Unimportant\"})\n",
    "RQ2_data[\"Drift time\"] = RQ2_data[\"Drift time\"].replace({\"Fully observed\": \"Training\", \"Half observed\": \"Training/Test\", \"Unobserved\": \"Test\"})\n",
    "RQ2_data[\"Dropped drifting\"] = RQ2_data[\"Dropped variable\"] == RQ2_data[\"Variable importance\"]\n",
    "RQ2_data.to_csv('RQ2_100_cleaned.csv', index=False)\n"
   ]
  }
 ],
 "metadata": {
  "interpreter": {
   "hash": "bb2182fffade70c0e7f6d6d7d677dfc7937f2a7c1bd1f995295d21446b3477ca"
  },
  "kernelspec": {
   "display_name": "Python 3.8.12 ('dbconnect')",
   "language": "python",
   "name": "python3"
  },
  "language_info": {
   "codemirror_mode": {
    "name": "ipython",
    "version": 3
   },
   "file_extension": ".py",
   "mimetype": "text/x-python",
   "name": "python",
   "nbconvert_exporter": "python",
   "pygments_lexer": "ipython3",
   "version": "3.8.12"
  },
  "orig_nbformat": 4
 },
 "nbformat": 4,
 "nbformat_minor": 2
}
